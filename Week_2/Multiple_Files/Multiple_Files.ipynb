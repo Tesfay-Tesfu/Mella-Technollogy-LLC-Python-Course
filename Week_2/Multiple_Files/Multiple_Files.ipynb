{
 "cells": [
  {
   "cell_type": "markdown",
   "id": "b71ff816-e41c-4574-9893-a80a00df1f1e",
   "metadata": {},
   "source": [
    "# This is to analysis MULTIPLE CSV files at ONCE !!"
   ]
  },
  {
   "cell_type": "markdown",
   "id": "00c402ec-08f7-4409-ab16-708d988319f5",
   "metadata": {},
   "source": [
    "### Developed by Mell-PYTHON-Analytics Group"
   ]
  },
  {
   "cell_type": "markdown",
   "id": "8f42779c-54ca-4c8c-a32f-67e98cd050f3",
   "metadata": {},
   "source": [
    "Click Here for data from 👉👉👉👉:  [NOAA-NASA-DATA](https://www.ncei.noaa.gov/access/search/data-search/daily-summaries)"
   ]
  },
  {
   "cell_type": "code",
   "execution_count": 6,
   "id": "ada08fca-5077-4215-8f7e-604acb95503c",
   "metadata": {},
   "outputs": [
    {
     "name": "stdin",
     "output_type": "stream",
     "text": [
      "Please Write Your Name in UPPER CASE ?:   TESFAY\n"
     ]
    },
    {
     "name": "stdout",
     "output_type": "stream",
     "text": [
      "\n",
      "Processing: USW00013880.csv\n"
     ]
    },
    {
     "name": "stderr",
     "output_type": "stream",
     "text": [
      "C:\\Users\\abreh\\AppData\\Local\\Temp\\ipykernel_3716\\2106472070.py:27: DtypeWarning: Columns (17,19,21,23,25,27,29,31,33,35,37,39,41,43,45,47,49,51,53,55,57,59,61,63,65,67,69,71,73,75,77,79,81,83,85,87,89,91,93,95,97,99,101,105,115,119,121,123,125,127,129,131,133,135,137,139,141,143) have mixed types. Specify dtype option on import or set low_memory=False.\n",
      "  df = pd.read_csv(file_path)\n"
     ]
    },
    {
     "name": "stdout",
     "output_type": "stream",
     "text": [
      "Found 32293 valid records\n",
      "Saved plot: USW00013880_plot.png\n",
      "\n",
      "Processing: USW00013958.csv\n"
     ]
    },
    {
     "name": "stderr",
     "output_type": "stream",
     "text": [
      "C:\\Users\\abreh\\AppData\\Local\\Temp\\ipykernel_3716\\2106472070.py:27: DtypeWarning: Columns (17,19,21,23,25,27,29,31,33,35,37,39,41,43,45,47,49,51,53,55,57,59,61,63,65,67,69,71,73,75,77,79,81,83,85,87,89,91,93,97,111,113,115,117,119,121,123,125,127,129,131,133,135) have mixed types. Specify dtype option on import or set low_memory=False.\n",
      "  df = pd.read_csv(file_path)\n"
     ]
    },
    {
     "name": "stdout",
     "output_type": "stream",
     "text": [
      "Found 31836 valid records\n",
      "Saved plot: USW00013958_plot.png\n",
      "\n",
      "Processing: USW00014607.csv\n"
     ]
    },
    {
     "name": "stderr",
     "output_type": "stream",
     "text": [
      "C:\\Users\\abreh\\AppData\\Local\\Temp\\ipykernel_3716\\2106472070.py:27: DtypeWarning: Columns (17,19,21,23,25,27,29,31,33,35,37,39,41,43,45,47,49,51,53,55,57,59,61,63,65,67,69,71,73,75,77,79,81,83,85,87,89,91,93,95,97,101,107,109,111,115,117,119,121,123,125,127,129,131,133,135,137,139,141,143) have mixed types. Specify dtype option on import or set low_memory=False.\n",
      "  df = pd.read_csv(file_path)\n"
     ]
    },
    {
     "name": "stdout",
     "output_type": "stream",
     "text": [
      "Found 31550 valid records\n",
      "Saved plot: USW00014607_plot.png\n",
      "\n",
      "Processing: USW00023066.csv\n"
     ]
    },
    {
     "name": "stderr",
     "output_type": "stream",
     "text": [
      "C:\\Users\\abreh\\AppData\\Local\\Temp\\ipykernel_3716\\2106472070.py:27: DtypeWarning: Columns (17,19,21,23,25,27,29,31,33,35,37,39,41,43,45,47,49,51,53,55,57,59,61,63,65,67,69,71,73,75,77,79,81,83,85,87,89,91,93,95,97,99,101,103,105,107,109,111,113,115,117,119,121,123,125,127,129,131,133,135,137) have mixed types. Specify dtype option on import or set low_memory=False.\n",
      "  df = pd.read_csv(file_path)\n"
     ]
    },
    {
     "name": "stdout",
     "output_type": "stream",
     "text": [
      "Found 45833 valid records\n",
      "Saved plot: USW00023066_plot.png\n",
      "\n",
      "Processing: USW00024121.csv\n"
     ]
    },
    {
     "name": "stderr",
     "output_type": "stream",
     "text": [
      "C:\\Users\\abreh\\AppData\\Local\\Temp\\ipykernel_3716\\2106472070.py:27: DtypeWarning: Columns (17,19,21,23,25,27,29,31,33,35,37,39,41,43,45,47,49,51,53,55,57,59,61,63,65,67,69,71,73,75,77,79,81,83,85,87,89,91,93,97,99,101,105,107,109,111,113,115,117,119,121,123,125,127,129,131,133) have mixed types. Specify dtype option on import or set low_memory=False.\n",
      "  df = pd.read_csv(file_path)\n"
     ]
    },
    {
     "name": "stdout",
     "output_type": "stream",
     "text": [
      "Found 47258 valid records\n",
      "Saved plot: USW00024121_plot.png\n",
      "\n",
      "Processing: USW00093817.csv\n"
     ]
    },
    {
     "name": "stderr",
     "output_type": "stream",
     "text": [
      "C:\\Users\\abreh\\AppData\\Local\\Temp\\ipykernel_3716\\2106472070.py:27: DtypeWarning: Columns (17,19,21,23,25,27,29,31,33,35,37,39,41,43,45,47,49,51,53,55,57,59,61,63,65,67,69,71,73,75,77,79,81,83,85,87,89,91,93,97,107,111,113,115,117,119,121,123,125,127,129,131,133,135) have mixed types. Specify dtype option on import or set low_memory=False.\n",
      "  df = pd.read_csv(file_path)\n"
     ]
    },
    {
     "name": "stdout",
     "output_type": "stream",
     "text": [
      "Found 28320 valid records\n",
      "Saved plot: USW00093817_plot.png\n",
      "\n",
      " Congratulation TESFAY !! Processing completed!\n"
     ]
    }
   ],
   "source": [
    "import os\n",
    "import pandas as pd\n",
    "import matplotlib.pyplot as plt\n",
    "################################################################################\n",
    "Name = input(\"Please Write Your Name in UPPER CASE ?:  \")\n",
    "################################################################################\n",
    "data_folder = r\"C:\\Aru_New_Future\\Mella-Technollogy-LLC-Python-Course-main\\Mella-Technollogy-LLC-Python-Course-main\\Backups\\Week_2\\Multiple_Files\"\n",
    "\n",
    "\n",
    "file_extension = \".csv\"\n",
    "################################################################################\n",
    "csv_files = [\n",
    "    filename \n",
    "    for filename in os.listdir(data_folder) \n",
    "    if filename.lower().endswith(file_extension)\n",
    "]\n",
    "################################################################################\n",
    "if not csv_files:\n",
    "    print(f\"No {file_extension} files found in {data_folder}\")\n",
    "    exit()\n",
    "################################################################################\n",
    "for csv_file in csv_files:\n",
    "    print(f\"\\nProcessing: {csv_file}\")\n",
    "    file_path = os.path.join(data_folder, csv_file)  \n",
    "################################################################################\n",
    "    try:\n",
    "        df = pd.read_csv(file_path)\n",
    "        required_columns = ['DATE', 'PRCP']\n",
    "        if not all(col in df.columns for col in required_columns):\n",
    "            missing = [col for col in required_columns if col not in df.columns]\n",
    "            print(f\"Skipping - Missing columns: {missing}\")\n",
    "            continue\n",
    "        df['DATE'] = pd.to_datetime(df['DATE'], errors='coerce')  # Convert to dates\n",
    "        clean_df = df.dropna(subset=['DATE', 'PRCP'])      # Remove bad rows\n",
    "        clean_df = clean_df.sort_values('DATE')                   # Sort by date\n",
    "        \n",
    "        print(f\"Found {len(clean_df)} valid records\")\n",
    "################################################################################\n",
    "        plt.figure(figsize=(10, 5))\n",
    "        plt.plot(clean_df['DATE'], clean_df['PRCP'], \n",
    "                color='steelblue', linewidth=1.5)\n",
    "        \n",
    "        plt.title(f\"Precipitation Data\\n{csv_file}\")\n",
    "        plt.xlabel(\"DATE\")\n",
    "        plt.ylabel(\"PRCP\")\n",
    "        plt.grid(alpha=0.3)\n",
    "        plt.xticks(rotation=45)\n",
    "################################################################################\n",
    "        plot_filename = f\"{os.path.splitext(csv_file)[0]}_plot.png\"\n",
    "        plt.savefig(os.path.join(data_folder, plot_filename), bbox_inches='tight')\n",
    "        plt.close()\n",
    "        print(f\"Saved plot: {plot_filename}\")\n",
    "################################################################################        \n",
    "    except Exception as e:\n",
    "        print(f\"Error processing {csv_file}: {str(e)}\")\n",
    "\n",
    "print(f\"\\n Congratulation {Name} !! Processing completed!\")"
   ]
  },
  {
   "cell_type": "code",
   "execution_count": null,
   "id": "2057a4da-342f-4dd1-a5cb-c41c74cde6b6",
   "metadata": {},
   "outputs": [],
   "source": []
  }
 ],
 "metadata": {
  "kernelspec": {
   "display_name": "Python (Mella)",
   "language": "python",
   "name": "mella"
  },
  "language_info": {
   "codemirror_mode": {
    "name": "ipython",
    "version": 3
   },
   "file_extension": ".py",
   "mimetype": "text/x-python",
   "name": "python",
   "nbconvert_exporter": "python",
   "pygments_lexer": "ipython3",
   "version": "3.13.5"
  }
 },
 "nbformat": 4,
 "nbformat_minor": 5
}
