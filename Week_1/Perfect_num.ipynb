{
 "cells": [
  {
   "cell_type": "code",
   "execution_count": 11,
   "metadata": {},
   "outputs": [
    {
     "name": "stdout",
     "output_type": "stream",
     "text": [
      "please eneter your N = 6\n",
      "The perfect Num is:  6\n",
      "The divisors of 6 are = [1, 2, 3]\n",
      " The sumation of the perfect number is: 6\n"
     ]
    }
   ],
   "source": [
    "Perfect_num = []\n",
    "N = int(input('please eneter your N = '))\n",
    "for i in range(1,N):\n",
    "    if N%i == 0:\n",
    "        Perfect_num.append(i)\n",
    "if sum(Perfect_num) <= N:\n",
    "    print(\"The perfect Num is: \", N)\n",
    "else:\n",
    "    print(f\"The {N} is NOT a Perfect Number \")\n",
    "    \n",
    "print(f\"The divisors of {N} are = {Perfect_num}\\n The sumation of the perfect number is: {sum(Perfect_num)}\")"
   ]
  },
  {
   "cell_type": "code",
   "execution_count": 4,
   "metadata": {},
   "outputs": [
    {
     "data": {
      "text/plain": [
       "16"
      ]
     },
     "execution_count": 4,
     "metadata": {},
     "output_type": "execute_result"
    }
   ],
   "source": []
  },
  {
   "cell_type": "code",
   "execution_count": null,
   "metadata": {},
   "outputs": [],
   "source": []
  }
 ],
 "metadata": {
  "kernelspec": {
   "display_name": "Python 3",
   "language": "python",
   "name": "python3"
  },
  "language_info": {
   "codemirror_mode": {
    "name": "ipython",
    "version": 3
   },
   "file_extension": ".py",
   "mimetype": "text/x-python",
   "name": "python",
   "nbconvert_exporter": "python",
   "pygments_lexer": "ipython3",
   "version": "3.7.4"
  }
 },
 "nbformat": 4,
 "nbformat_minor": 2
}
