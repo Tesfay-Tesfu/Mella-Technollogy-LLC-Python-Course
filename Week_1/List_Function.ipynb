{
 "cells": [
  {
   "cell_type": "markdown",
   "id": "beb1524e-b31e-4cef-8b40-a0bd8a821899",
   "metadata": {},
   "source": [
    "# July 15/2025"
   ]
  },
  {
   "cell_type": "markdown",
   "id": "a9b42077-7eaf-4d28-869c-02564211f85e",
   "metadata": {},
   "source": [
    "## List, Tuples, Set, Dictionary, and Functions"
   ]
  },
  {
   "cell_type": "markdown",
   "id": "96c75fe4-4ee9-4e47-87f1-9f8c6ac1ec7a",
   "metadata": {},
   "source": [
    "# 1. List []\n",
    "Ordered, mutable, allows duplicates\n",
    "Use when you need a sequence of items that may change"
   ]
  },
  {
   "cell_type": "code",
   "execution_count": 20,
   "id": "c71de6ac-4b4f-41da-acac-f330f98c2ce6",
   "metadata": {},
   "outputs": [
    {
     "name": "stdout",
     "output_type": "stream",
     "text": [
      "['Tes', 'Abel', 'Nat', 'Hail']\n"
     ]
    }
   ],
   "source": [
    "Mella_list = [\"Tes\",\"Abel\",\"Nat\",\"Hail\"]\n",
    "print(Mella_list)"
   ]
  },
  {
   "cell_type": "code",
   "execution_count": 4,
   "id": "b2a9ab4b-c70d-44b1-9525-d51302272a92",
   "metadata": {},
   "outputs": [
    {
     "name": "stdout",
     "output_type": "stream",
     "text": [
      "Tes\n",
      "Abel\n",
      "Nat\n",
      "Hail\n"
     ]
    }
   ],
   "source": [
    "for i in Mella_list:\n",
    "    print(i)"
   ]
  },
  {
   "cell_type": "code",
   "execution_count": 12,
   "id": "c0177bb9-8067-46b9-8335-f24719ed0380",
   "metadata": {},
   "outputs": [
    {
     "name": "stdout",
     "output_type": "stream",
     "text": [
      "0 Tes\n",
      "1 Abel\n",
      "2 Nat\n",
      "3 Hail\n"
     ]
    }
   ],
   "source": [
    "for i, listt in enumerate(Mella_list):\n",
    "    print(i,listt)"
   ]
  },
  {
   "cell_type": "code",
   "execution_count": 30,
   "id": "c0313bee-cfc0-4915-832e-1c107633ba06",
   "metadata": {},
   "outputs": [
    {
     "name": "stdout",
     "output_type": "stream",
     "text": [
      "['Abdu', 'Abel', 'Nat', 'Hail', ['Tes11', 'Abel11', 'Nat11', 'Hail11'], 'Tes11', 'Abel11', 'Nat11', 'Hail11']\n"
     ]
    }
   ],
   "source": [
    "Mella_list[0] = \"Abdu\"\n",
    "print(Mella_list)"
   ]
  },
  {
   "cell_type": "code",
   "execution_count": 21,
   "id": "8c689be5-abea-4c29-8b2c-7625971cb54c",
   "metadata": {},
   "outputs": [],
   "source": [
    "Mella_list2 = [\"Tes11\",\"Abel11\",\"Nat11\",\"Hail11\"]"
   ]
  },
  {
   "cell_type": "code",
   "execution_count": 25,
   "id": "089646d4-ec7d-4372-9bca-2a34d91a5ce7",
   "metadata": {},
   "outputs": [
    {
     "data": {
      "text/plain": [
       "4"
      ]
     },
     "execution_count": 25,
     "metadata": {},
     "output_type": "execute_result"
    }
   ],
   "source": [
    "len(Mella_list2)"
   ]
  },
  {
   "cell_type": "code",
   "execution_count": 24,
   "id": "d89759d0-20de-4209-8d90-021a3a4c47c6",
   "metadata": {},
   "outputs": [
    {
     "name": "stdout",
     "output_type": "stream",
     "text": [
      "['Tes', 'Abel', 'Nat', 'Hail', ['Tes11', 'Abel11', 'Nat11', 'Hail11'], 'Tes11', 'Abel11', 'Nat11', 'Hail11']\n"
     ]
    }
   ],
   "source": [
    "Mella_list.append(Mella_list2) \n",
    "print(Mella_list)"
   ]
  },
  {
   "cell_type": "markdown",
   "id": "1558a1b2-2341-4d68-88af-5e722e903c6a",
   "metadata": {},
   "source": [
    "# 2. Tuple ()\n",
    "Ordered, immutable, allows duplicates\n",
    "Use when your data should not change"
   ]
  },
  {
   "cell_type": "code",
   "execution_count": 31,
   "id": "32b03f26-4c7b-4fdf-be1f-cc1f231d71e0",
   "metadata": {},
   "outputs": [
    {
     "name": "stdout",
     "output_type": "stream",
     "text": [
      "('Tes', 'Abel', 'Nat', 'Hail')\n"
     ]
    }
   ],
   "source": [
    "Mella_list = (\"Tes\",\"Abel\",\"Nat\",\"Hail\")\n",
    "print(Mella_list)"
   ]
  },
  {
   "cell_type": "code",
   "execution_count": 33,
   "id": "9850c499-ef32-4a50-8f42-61bb83e31186",
   "metadata": {},
   "outputs": [
    {
     "ename": "TypeError",
     "evalue": "'tuple' object does not support item assignment",
     "output_type": "error",
     "traceback": [
      "\u001b[31m---------------------------------------------------------------------------\u001b[39m",
      "\u001b[31mTypeError\u001b[39m                                 Traceback (most recent call last)",
      "\u001b[36mCell\u001b[39m\u001b[36m \u001b[39m\u001b[32mIn[33]\u001b[39m\u001b[32m, line 1\u001b[39m\n\u001b[32m----> \u001b[39m\u001b[32m1\u001b[39m \u001b[43mMella_list\u001b[49m\u001b[43m[\u001b[49m\u001b[32;43m0\u001b[39;49m\u001b[43m]\u001b[49m = \u001b[33m\"\u001b[39m\u001b[33mAbdu\u001b[39m\u001b[33m\"\u001b[39m\n",
      "\u001b[31mTypeError\u001b[39m: 'tuple' object does not support item assignment"
     ]
    }
   ],
   "source": [
    "Mella_list[0] = \"Abdu\" # Therefore the error is due to the immutable behaviour of Tuples"
   ]
  },
  {
   "cell_type": "markdown",
   "id": "7ba4e822-c7bb-435d-baff-2bf8c5cdace9",
   "metadata": {},
   "source": [
    "# 3. Set {}\n",
    "Unordered, mutable, no duplicates allowed\n",
    "Great for removing duplicates or doing set math"
   ]
  },
  {
   "cell_type": "code",
   "execution_count": 40,
   "id": "46ae74a5-1b6c-4383-90ad-851c753e740d",
   "metadata": {},
   "outputs": [
    {
     "data": {
      "text/plain": [
       "{'Abel', 'Hail'}"
      ]
     },
     "execution_count": 40,
     "metadata": {},
     "output_type": "execute_result"
    }
   ],
   "source": [
    "Mella_list1 = {\"Tes\",\"Abel\",\"Nat\",\"Hail\"}\n",
    "Mella_list2 = {\"Tes\",\"Ahmed\",\"Nat\",\"Biruk\"}\n",
    "Mella_list1.difference(Mella_list2)"
   ]
  },
  {
   "cell_type": "markdown",
   "id": "fca1a5df-c0c2-443b-bbf7-9666fcafdfd8",
   "metadata": {},
   "source": [
    "# 4. Dictionary {key: value}\n",
    "Old-python was not guarenteed for order, but today its ordered, mutable, stores key-value pairs\n",
    "Comfortable for observation and DF."
   ]
  },
  {
   "cell_type": "code",
   "execution_count": 3,
   "id": "fb35ffc0-c32f-493d-888a-6ab33e4af6da",
   "metadata": {},
   "outputs": [
    {
     "name": "stdout",
     "output_type": "stream",
     "text": [
      "{'Name': ['Abel', ' ', 'Awetino', 'Hailish'], 'Height': [5, 6, 8, 7]}\n"
     ]
    }
   ],
   "source": [
    "st_dict = {\"Name\": [\"Abel\", \" \", \"Awetino\", \"Hailish\"],\n",
    "           \"Height\": [5, 6, 8, 7]}\n",
    "print(st_dict)"
   ]
  },
  {
   "cell_type": "code",
   "execution_count": 4,
   "id": "546add7e-5bbd-4e80-a892-0fae030b65cd",
   "metadata": {},
   "outputs": [
    {
     "data": {
      "text/html": [
       "<div>\n",
       "<style scoped>\n",
       "    .dataframe tbody tr th:only-of-type {\n",
       "        vertical-align: middle;\n",
       "    }\n",
       "\n",
       "    .dataframe tbody tr th {\n",
       "        vertical-align: top;\n",
       "    }\n",
       "\n",
       "    .dataframe thead th {\n",
       "        text-align: right;\n",
       "    }\n",
       "</style>\n",
       "<table border=\"1\" class=\"dataframe\">\n",
       "  <thead>\n",
       "    <tr style=\"text-align: right;\">\n",
       "      <th></th>\n",
       "      <th>Name</th>\n",
       "      <th>Height</th>\n",
       "    </tr>\n",
       "  </thead>\n",
       "  <tbody>\n",
       "    <tr>\n",
       "      <th>0</th>\n",
       "      <td>Abel</td>\n",
       "      <td>5</td>\n",
       "    </tr>\n",
       "    <tr>\n",
       "      <th>1</th>\n",
       "      <td></td>\n",
       "      <td>6</td>\n",
       "    </tr>\n",
       "    <tr>\n",
       "      <th>2</th>\n",
       "      <td>Awetino</td>\n",
       "      <td>8</td>\n",
       "    </tr>\n",
       "    <tr>\n",
       "      <th>3</th>\n",
       "      <td>Hailish</td>\n",
       "      <td>7</td>\n",
       "    </tr>\n",
       "  </tbody>\n",
       "</table>\n",
       "</div>"
      ],
      "text/plain": [
       "      Name  Height\n",
       "0     Abel       5\n",
       "1                6\n",
       "2  Awetino       8\n",
       "3  Hailish       7"
      ]
     },
     "execution_count": 4,
     "metadata": {},
     "output_type": "execute_result"
    }
   ],
   "source": [
    "import pandas as pd\n",
    "data = pd.DataFrame(st_dict)\n",
    "data"
   ]
  },
  {
   "cell_type": "code",
   "execution_count": null,
   "id": "5539ae68-b966-49c2-b30e-3336f88be39e",
   "metadata": {},
   "outputs": [],
   "source": []
  },
  {
   "cell_type": "markdown",
   "id": "d5542f50-2de7-46ad-b2e9-cc2c196fb1ab",
   "metadata": {},
   "source": [
    "# Mella Math Operator functions"
   ]
  },
  {
   "cell_type": "code",
   "execution_count": null,
   "id": "2a1cff51-7985-4485-ae1e-d184688f6217",
   "metadata": {},
   "outputs": [],
   "source": [
    "%%writefile Mella_Math_func.py"
   ]
  }
 ],
 "metadata": {
  "kernelspec": {
   "display_name": "Python (Mella)",
   "language": "python",
   "name": "mella"
  },
  "language_info": {
   "codemirror_mode": {
    "name": "ipython",
    "version": 3
   },
   "file_extension": ".py",
   "mimetype": "text/x-python",
   "name": "python",
   "nbconvert_exporter": "python",
   "pygments_lexer": "ipython3",
   "version": "3.13.5"
  }
 },
 "nbformat": 4,
 "nbformat_minor": 5
}
