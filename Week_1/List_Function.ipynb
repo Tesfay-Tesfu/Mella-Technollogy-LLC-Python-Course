{
 "cells": [
  {
   "cell_type": "markdown",
   "id": "beb1524e-b31e-4cef-8b40-a0bd8a821899",
   "metadata": {},
   "source": [
    "# July 15/2025"
   ]
  },
  {
   "cell_type": "markdown",
   "id": "a9b42077-7eaf-4d28-869c-02564211f85e",
   "metadata": {},
   "source": [
    "## List, Tuples, Set, Dictionary, and Functions"
   ]
  },
  {
   "cell_type": "markdown",
   "id": "96c75fe4-4ee9-4e47-87f1-9f8c6ac1ec7a",
   "metadata": {},
   "source": [
    "# 1. List []\n",
    "Ordered, mutable, allows duplicates\n",
    "Use when you need a sequence of items that may change"
   ]
  },
  {
   "cell_type": "code",
   "execution_count": null,
   "id": "c71de6ac-4b4f-41da-acac-f330f98c2ce6",
   "metadata": {},
   "outputs": [],
   "source": [
    "--\n",
    "#\n",
    "%\n",
    "#"
   ]
  },
  {
   "cell_type": "code",
   "execution_count": null,
   "id": "b2a9ab4b-c70d-44b1-9525-d51302272a92",
   "metadata": {},
   "outputs": [],
   "source": []
  },
  {
   "cell_type": "markdown",
   "id": "1558a1b2-2341-4d68-88af-5e722e903c6a",
   "metadata": {},
   "source": [
    "# 2. Tuple ()\n",
    "Ordered, immutable, allows duplicates\n",
    "Use when your data should not change"
   ]
  },
  {
   "cell_type": "code",
   "execution_count": null,
   "id": "32b03f26-4c7b-4fdf-be1f-cc1f231d71e0",
   "metadata": {},
   "outputs": [],
   "source": []
  },
  {
   "cell_type": "markdown",
   "id": "7ba4e822-c7bb-435d-baff-2bf8c5cdace9",
   "metadata": {},
   "source": [
    "# 3. Set {}\n",
    "Unordered, mutable, no duplicates allowed\n",
    "Great for removing duplicates or doing set math"
   ]
  },
  {
   "cell_type": "code",
   "execution_count": null,
   "id": "46ae74a5-1b6c-4383-90ad-851c753e740d",
   "metadata": {},
   "outputs": [],
   "source": []
  },
  {
   "cell_type": "markdown",
   "id": "fca1a5df-c0c2-443b-bbf7-9666fcafdfd8",
   "metadata": {},
   "source": [
    "# 4. Dictionary {key: value}\n",
    "Old-python was not guarenteed for order, but today its ordered, mutable, stores key-value pairs\n",
    "Comfortable for observation and DF."
   ]
  },
  {
   "cell_type": "code",
   "execution_count": null,
   "id": "fb35ffc0-c32f-493d-888a-6ab33e4af6da",
   "metadata": {},
   "outputs": [],
   "source": []
  },
  {
   "cell_type": "markdown",
   "id": "d5542f50-2de7-46ad-b2e9-cc2c196fb1ab",
   "metadata": {},
   "source": [
    "# Mella Math Operator functions"
   ]
  },
  {
   "cell_type": "code",
   "execution_count": null,
   "id": "2a1cff51-7985-4485-ae1e-d184688f6217",
   "metadata": {},
   "outputs": [],
   "source": [
    "%%writefile Mella_Math_func.py"
   ]
  }
 ],
 "metadata": {
  "kernelspec": {
   "display_name": "Python (Mella)",
   "language": "python",
   "name": "mella"
  },
  "language_info": {
   "codemirror_mode": {
    "name": "ipython",
    "version": 3
   },
   "file_extension": ".py",
   "mimetype": "text/x-python",
   "name": "python",
   "nbconvert_exporter": "python",
   "pygments_lexer": "ipython3",
   "version": "3.13.5"
  }
 },
 "nbformat": 4,
 "nbformat_minor": 5
}
