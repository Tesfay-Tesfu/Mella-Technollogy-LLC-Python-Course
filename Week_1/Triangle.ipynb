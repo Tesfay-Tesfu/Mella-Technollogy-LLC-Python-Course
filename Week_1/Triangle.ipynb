{
 "cells": [
  {
   "cell_type": "code",
   "execution_count": 3,
   "metadata": {},
   "outputs": [
    {
     "name": "stdout",
     "output_type": "stream",
     "text": [
      "please enter your side A = 4\n",
      "please enter your side B = 4\n",
      "please enter your side C = 4\n",
      "This triangle is Equilateral Triangle\n"
     ]
    }
   ],
   "source": [
    "sideA = int(input(\"please enter your side A = \"))\n",
    "sideB = int(input(\"please enter your side B = \"))\n",
    "sideC = int(input(\"please enter your side C = \"))\n",
    "\n",
    "if sideA == sideB == sideC:\n",
    "    print(\"This triangle is Equilateral Triangle\")\n",
    "elif sideA == sideB or sideB == sideC or sideA == sideC:\n",
    "    print(\"This triangle is Isosceles Triangle\")\n",
    "else:\n",
    "    print(\"This triangle is Scalence Triangle\")"
   ]
  },
  {
   "cell_type": "markdown",
   "metadata": {},
   "source": [
    "import numpy as np"
   ]
  },
  {
   "cell_type": "code",
   "execution_count": 22,
   "metadata": {},
   "outputs": [
    {
     "name": "stdout",
     "output_type": "stream",
     "text": [
      "please enter A = 21\n",
      "please enter B = 12\n",
      "please enter A = 31\n",
      "please enter B = 12\n"
     ]
    },
    {
     "data": {
      "text/plain": [
       "[33, 43]"
      ]
     },
     "execution_count": 22,
     "metadata": {},
     "output_type": "execute_result"
    }
   ],
   "source": [
    "Sum11 = []\n",
    "for i in range(2):\n",
    "#     print(i)\n",
    "    A = int(input(\"please enter A = \"))\n",
    "    B = int(input(\"please enter B = \"))\n",
    "    Sum_A_B = A+B\n",
    "    Sum11.append(Sum_A_B)\n",
    "    \n",
    "Sum11"
   ]
  },
  {
   "cell_type": "code",
   "execution_count": 24,
   "metadata": {},
   "outputs": [
    {
     "name": "stdout",
     "output_type": "stream",
     "text": [
      "Sum1: 33\n",
      "Sum2: 43\n"
     ]
    }
   ],
   "source": [
    "for i, result in enumerate(Sum11):\n",
    "    print(f\"Sum{i+1}: {result}\")"
   ]
  },
  {
   "cell_type": "code",
   "execution_count": 33,
   "metadata": {},
   "outputs": [
    {
     "name": "stdout",
     "output_type": "stream",
     "text": [
      "Please enter Age = 40\n",
      "Please enter Age = 20\n",
      "Please enter Age = 32\n",
      "Names collected: [None, 'Unknown', 'Tolosa']\n"
     ]
    }
   ],
   "source": [
    "names = []\n",
    "\n",
    "for i in range(3):\n",
    "    age = int(input(\"Please enter Age = \"))\n",
    "    if age == 25:\n",
    "        name = 'Mesfenye'\n",
    "    elif age == 28:\n",
    "        name = 'Tes-Echo'\n",
    "    elif age == 43:\n",
    "        name = 'Jhon'\n",
    "    elif age == 21:\n",
    "        name = 'Amanda'\n",
    "    elif age == 31:\n",
    "        name = 'Robel'\n",
    "    elif age == 15:\n",
    "        name = 'Mohammod'\n",
    "    elif age == 32:\n",
    "        name = 'Tolosa'\n",
    "    elif age == 22:\n",
    "        name = 'Belete'\n",
    "    elif age == 40:\n",
    "        name = None\n",
    "    else:\n",
    "        name = 'Unknown'\n",
    "    names.append(name)\n",
    "\n",
    "print(\"Names collected:\", names)\n"
   ]
  },
  {
   "cell_type": "code",
   "execution_count": null,
   "metadata": {},
   "outputs": [],
   "source": []
  }
 ],
 "metadata": {
  "kernelspec": {
   "display_name": "Python 3",
   "language": "python",
   "name": "python3"
  },
  "language_info": {
   "codemirror_mode": {
    "name": "ipython",
    "version": 3
   },
   "file_extension": ".py",
   "mimetype": "text/x-python",
   "name": "python",
   "nbconvert_exporter": "python",
   "pygments_lexer": "ipython3",
   "version": "3.7.4"
  }
 },
 "nbformat": 4,
 "nbformat_minor": 2
}
