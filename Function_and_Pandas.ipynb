{
 "cells": [
  {
   "cell_type": "markdown",
   "id": "d5542f50-2de7-46ad-b2e9-cc2c196fb1ab",
   "metadata": {
    "id": "d5542f50-2de7-46ad-b2e9-cc2c196fb1ab"
   },
   "source": [
    "# Mella Math Operators using functions"
   ]
  },
  {
   "cell_type": "markdown",
   "id": "dde1eb7a-1ed0-45ec-ae45-28914b279c47",
   "metadata": {},
   "source": [
    "# Functions in Python (def)\n",
    "# Definition: A function is a reusable block of code that performs a specific task."
   ]
  },
  {
   "cell_type": "markdown",
   "id": "2fe2a045-d096-4093-9d49-cacb7b78accb",
   "metadata": {},
   "source": [
    "<style>\n",
    "    body { font-family: 'Segoe UI', sans-serif; line-height: 1.6; color: #333; }\n",
    "    h1 { color: #2e8b57; text-align: center; }\n",
    "    h2 { color: #6a5acd; }\n",
    "    code { background: #f4f4f4; color: #d14; padding: 2px 5px; border-radius: 5px; }\n",
    "    pre { background: #2d2d2d; color: #f8f8f2; padding: 10px; border-radius: 8px; overflow-x: auto; }\n",
    "    ul { list-style-type: square; }\n",
    "    .note { background: #ffffcc; border-left: 6px solid #ffeb3b; padding: 10px; margin: 10px 0; }\n",
    "</style>\n",
    "\n",
    "<h1>✨ Python Functions (using <code>def</code>)</h1>\n",
    "\n",
    "<h2>🔧 What is a Function?</h2>\n",
    "<ul>\n",
    "    <li>A reusable block of code that performs a specific task.</li>\n",
    "    <li>Defined using the <code>def</code> keyword.</li>\n",
    "    <li>Improves code readability and avoids repetition.</li>\n",
    "</ul>\n",
    "\n",
    "\n",
    "<h2>🔤 Basic Syntax</h2>\n",
    "<pre><code>def function_name(parameters):\n",
    "    # code block\n",
    "    return result</code></pre>\n",
    "\n",
    "<h2>📌 Example</h2>\n",
    "<pre><code>def greet(name):\n",
    "    return f\"Hello, {name}!\"</code></pre>\n",
    "\n",
    "<div class=\"note\">\n",
    "    <strong>Calling the function:</strong><br>\n",
    "    <code>greet(\"Aru\")</code> returns <code>\"Hello, Aru!\"</code>\n",
    "</div>\n",
    "\n",
    "<h2>🧠 Types of Functions</h2>\n",
    "<ul>\n",
    "    <li><strong>Built-in:</strong> <code>print()</code>, <code>len()</code></li>\n",
    "    <li><strong>User-defined:</strong> Functions you create</li>\n",
    "    <li><strong>Lambda:</strong> Short anonymous functions</li>\n",
    "</ul>\n"
   ]
  },
  {
   "cell_type": "code",
   "execution_count": null,
   "id": "3d7937b0-32ec-4922-93cf-1c3a6813a41b",
   "metadata": {},
   "outputs": [],
   "source": []
  },
  {
   "cell_type": "code",
   "execution_count": 1,
   "id": "2a1cff51-7985-4485-ae1e-d184688f6217",
   "metadata": {
    "colab": {
     "base_uri": "https://localhost:8080/"
    },
    "id": "2a1cff51-7985-4485-ae1e-d184688f6217",
    "outputId": "3b4d3f6c-aa6b-43fd-f15e-3d1812e9f866"
   },
   "outputs": [
    {
     "name": "stdout",
     "output_type": "stream",
     "text": [
      "Overwriting Mella_Calculator.py\n"
     ]
    }
   ],
   "source": [
    "%%writefile Mella_Calculator.py\n",
    "#############################\n",
    "def add(x,y):# for Addition\n",
    "  return x+y\n",
    "#############################\n",
    "def sub(x,y):# for Subtraction\n",
    "  return x-y\n",
    "##############################\n",
    "def div(x,y):# for Division\n",
    "  return x/y\n",
    "##############################\n",
    "def mult(x,y):# for Multiplication\n",
    "  return x*y"
   ]
  },
  {
   "cell_type": "code",
   "execution_count": 2,
   "id": "f7PhC2mUh8EV",
   "metadata": {
    "id": "f7PhC2mUh8EV"
   },
   "outputs": [],
   "source": [
    "from Mella_Calculator import add, mult,sub,div"
   ]
  },
  {
   "cell_type": "code",
   "execution_count": 3,
   "id": "t0hMatHijTeI",
   "metadata": {
    "colab": {
     "base_uri": "https://localhost:8080/"
    },
    "id": "t0hMatHijTeI",
    "outputId": "9543bcb9-1bb4-47f5-e4dd-fee2266a98cd"
   },
   "outputs": [
    {
     "data": {
      "text/plain": [
       "68"
      ]
     },
     "execution_count": 3,
     "metadata": {},
     "output_type": "execute_result"
    }
   ],
   "source": [
    "add(23,45)"
   ]
  },
  {
   "cell_type": "code",
   "execution_count": 4,
   "id": "XRtY-Zb6jYFn",
   "metadata": {
    "colab": {
     "base_uri": "https://localhost:8080/"
    },
    "id": "XRtY-Zb6jYFn",
    "outputId": "f05476be-036b-4bd3-bbd0-0ba713d0ca4b"
   },
   "outputs": [
    {
     "data": {
      "text/plain": [
       "1760"
      ]
     },
     "execution_count": 4,
     "metadata": {},
     "output_type": "execute_result"
    }
   ],
   "source": [
    "mult(20,88)"
   ]
  },
  {
   "cell_type": "code",
   "execution_count": null,
   "id": "RjAilTDyRp8n",
   "metadata": {
    "colab": {
     "base_uri": "https://localhost:8080/"
    },
    "id": "RjAilTDyRp8n",
    "outputId": "753fb90b-0842-420b-f775-d37663a0c63a"
   },
   "outputs": [
    {
     "name": "stdout",
     "output_type": "stream",
     "text": [
      "[22.5, 22.75, 23.0, 23.25, 23.5, 23.75, 24.0, 24.25, 24.5, 24.75, 25.0]\n"
     ]
    }
   ],
   "source": [
    "# This is a question raised by Jay\n",
    "def store_25():\n",
    "    stored_values = []\n",
    "    for i in range(90, 101):\n",
    "\n",
    "        stored_values.append(i*0.25)\n",
    "    return stored_values\n",
    "my_values = store_25()\n",
    "print(my_values)"
   ]
  },
  {
   "cell_type": "code",
   "execution_count": null,
   "id": "9nHIJnGCpRWP",
   "metadata": {
    "colab": {
     "base_uri": "https://localhost:8080/"
    },
    "id": "9nHIJnGCpRWP",
    "outputId": "b6fdf302-6896-4aea-bae2-8e9f9d9ae5de"
   },
   "outputs": [
    {
     "name": "stdout",
     "output_type": "stream",
     "text": [
      "     Name  Marks\n",
      "0    Tesu     89\n",
      "1   Juned     75\n",
      "2   Kidus     80\n",
      "3   Haile     99\n",
      "4  Nanael     65\n"
     ]
    }
   ],
   "source": [
    "# This is developed by Hailemichel\n",
    "import pandas as pd\n",
    "marks_dict = [\n",
    "    {\"Name\": \"Tesu\", \"Marks\": 89},\n",
    "    {\"Name\": \"Juned\", \"Marks\": 75},\n",
    "    {\"Name\": \"Kidus\", \"Marks\": 80},\n",
    "    {\"Name\": \"Haile\", \"Marks\": 99},\n",
    "    {\"Name\": \"Nanael\", \"Marks\": 65}\n",
    "]\n",
    "Data_Marks = pd.DataFrame(marks_dict)\n",
    "print(Data_Marks)\n",
    "\n",
    "\n",
    "def grade(Mark):\n",
    "    if mark >= 90:\n",
    "        return \"A\"\n",
    "    elif mark >= 80:\n",
    "        return \"B\"\n",
    "    elif mark >= 70:\n",
    "        return \"C\"\n",
    "    elif mark >= 60:\n",
    "        return \"D\"\n",
    "    else:\n",
    "        return \"F\"\n",
    "\n"
   ]
  },
  {
   "cell_type": "code",
   "execution_count": 6,
   "id": "6d2e11f7-ace2-4b07-949c-5f3f5b86e89f",
   "metadata": {},
   "outputs": [
    {
     "name": "stdout",
     "output_type": "stream",
     "text": [
      "{'Name': ['Abebe', 'BB', 'CC', 'DD', 'EE', 'FF', 'GG', 'HH', 'II'], 'Mark': [34, 45, 65, 50, 55, 66, 77, 88, 98]}\n",
      "    Name  Mark\n",
      "0  Abebe    34\n",
      "1     BB    45\n",
      "2     CC    65\n",
      "3     DD    50\n",
      "4     EE    55\n",
      "5     FF    66\n",
      "6     GG    77\n",
      "7     HH    88\n",
      "8     II    98\n"
     ]
    },
    {
     "data": {
      "text/html": [
       "<div>\n",
       "<style scoped>\n",
       "    .dataframe tbody tr th:only-of-type {\n",
       "        vertical-align: middle;\n",
       "    }\n",
       "\n",
       "    .dataframe tbody tr th {\n",
       "        vertical-align: top;\n",
       "    }\n",
       "\n",
       "    .dataframe thead th {\n",
       "        text-align: right;\n",
       "    }\n",
       "</style>\n",
       "<table border=\"1\" class=\"dataframe\">\n",
       "  <thead>\n",
       "    <tr style=\"text-align: right;\">\n",
       "      <th></th>\n",
       "      <th>Name</th>\n",
       "      <th>Mark</th>\n",
       "      <th>Grade</th>\n",
       "    </tr>\n",
       "  </thead>\n",
       "  <tbody>\n",
       "    <tr>\n",
       "      <th>0</th>\n",
       "      <td>Abebe</td>\n",
       "      <td>34</td>\n",
       "      <td>F</td>\n",
       "    </tr>\n",
       "    <tr>\n",
       "      <th>1</th>\n",
       "      <td>BB</td>\n",
       "      <td>45</td>\n",
       "      <td>F</td>\n",
       "    </tr>\n",
       "    <tr>\n",
       "      <th>2</th>\n",
       "      <td>CC</td>\n",
       "      <td>65</td>\n",
       "      <td>C</td>\n",
       "    </tr>\n",
       "    <tr>\n",
       "      <th>3</th>\n",
       "      <td>DD</td>\n",
       "      <td>50</td>\n",
       "      <td>F</td>\n",
       "    </tr>\n",
       "    <tr>\n",
       "      <th>4</th>\n",
       "      <td>EE</td>\n",
       "      <td>55</td>\n",
       "      <td>D</td>\n",
       "    </tr>\n",
       "    <tr>\n",
       "      <th>5</th>\n",
       "      <td>FF</td>\n",
       "      <td>66</td>\n",
       "      <td>C</td>\n",
       "    </tr>\n",
       "    <tr>\n",
       "      <th>6</th>\n",
       "      <td>GG</td>\n",
       "      <td>77</td>\n",
       "      <td>C</td>\n",
       "    </tr>\n",
       "    <tr>\n",
       "      <th>7</th>\n",
       "      <td>HH</td>\n",
       "      <td>88</td>\n",
       "      <td>B</td>\n",
       "    </tr>\n",
       "    <tr>\n",
       "      <th>8</th>\n",
       "      <td>II</td>\n",
       "      <td>98</td>\n",
       "      <td>A</td>\n",
       "    </tr>\n",
       "  </tbody>\n",
       "</table>\n",
       "</div>"
      ],
      "text/plain": [
       "    Name  Mark Grade\n",
       "0  Abebe    34     F\n",
       "1     BB    45     F\n",
       "2     CC    65     C\n",
       "3     DD    50     F\n",
       "4     EE    55     D\n",
       "5     FF    66     C\n",
       "6     GG    77     C\n",
       "7     HH    88     B\n",
       "8     II    98     A"
      ]
     },
     "execution_count": 6,
     "metadata": {},
     "output_type": "execute_result"
    }
   ],
   "source": [
    "#################################\n",
    "\"\"\"\n",
    "#    Dictioner ===> Dataframe ======> Analysing Dataframe using FUNCTION ##\n",
    "\"\"\"\n",
    "dict22 =  {\"Name\": [\"Abebe\", \"BB\", \"CC\",\"DD\",\"EE\", \"FF\", \"GG\",\"HH\",\"II\"],\n",
    "           \"Mark\": [34,45, 65,50,55,66,77,88,98]}\n",
    "print(dict22)\n",
    "###############################################\n",
    "import pandas as pd\n",
    "df = pd.DataFrame(dict22)\n",
    "print(df)\n",
    "##############################\n",
    "def grading(df, column_name='Mark'):\n",
    "    grades = []\n",
    "\n",
    "    for mark in df[column_name]:\n",
    "        if mark >= 90:\n",
    "            grades.append(\"A\")\n",
    "        elif 85 <= mark < 90:\n",
    "            grades.append(\"B\")\n",
    "        elif 65 <= mark < 80:\n",
    "            grades.append(\"C\")\n",
    "        elif 55 <= mark < 65:\n",
    "            grades.append(\"D\")\n",
    "        else:\n",
    "            grades.append(\"F\")\n",
    "\n",
    "    df[\"Grade\"] = grades\n",
    "    return df\n",
    "#######################################\n",
    "df = grading(df)\n",
    "df"
   ]
  },
  {
   "cell_type": "code",
   "execution_count": 7,
   "id": "d92d3475-bddc-4e8a-b8db-ca5ef47c82d0",
   "metadata": {},
   "outputs": [
    {
     "name": "stdin",
     "output_type": "stream",
     "text": [
      "Please write your first Name:  Tesfay\n"
     ]
    }
   ],
   "source": [
    "\"\"\"\n",
    "##### INDIVIDUAL ASSIGNMENT !!!!!\n",
    "\n",
    "# 1, Please create an Interactive database\n",
    "Hint: let's use simple interactive to write your name store it at the XX variable\n",
    "\n",
    "Example:  \n",
    "\"\"\"\n",
    "XX = input(\"Please write your first Name: \")\n"
   ]
  },
  {
   "attachments": {
    "03da913d-df62-429b-8a8c-d12b49a991c7.png": {
     "image/png": "[encoded data removed]"
    }
   },
   "cell_type": "markdown",
   "id": "31d87e17-f9fb-491a-886d-bde1a0e42893",
   "metadata": {},
   "source": [
    "![image.png](attachment:03da913d-df62-429b-8a8c-d12b49a991c7.png)"
   ]
  },
  {
   "cell_type": "code",
   "execution_count": 8,
   "id": "299cd23e-4807-4bff-8e29-2c68534a597b",
   "metadata": {},
   "outputs": [
    {
     "name": "stdout",
     "output_type": "stream",
     "text": [
      "Tesfay\n"
     ]
    }
   ],
   "source": [
    "print(XX)"
   ]
  },
  {
   "cell_type": "markdown",
   "id": "cc51ca27-93c2-4766-9478-42276759aa9f",
   "metadata": {},
   "source": [
    "# Reading/Importing Data from either our path OR from Tesfay-Tesfu, particularly at \"https://github.com/Tesfay-Tesfu/Mella-Technollogy-LLC-Python-Course/tree/main/Week_2\""
   ]
  },
  {
   "cell_type": "markdown",
   "id": "ee66b11a-e009-4102-af9c-37b30342f45b",
   "metadata": {},
   "source": [
    "# PANDAS "
   ]
  },
  {
   "cell_type": "markdown",
   "id": "a093c29b-4b7a-4ec7-bb31-fe18a2725c3d",
   "metadata": {},
   "source": [
    "<style>\n",
    "    body { font-family: 'Segoe UI', sans-serif; line-height: 1.6; color: #333; }\n",
    "    h1 { color: #1f77b4; text-align: center; }\n",
    "    h2 { color: #2ca02c; margin-top: 20px; }\n",
    "    ul { list-style-type: square; padding-left: 20px; }\n",
    "    code {\n",
    "        background: #f4f4f4;\n",
    "        color: #c7254e;\n",
    "        padding: 2px 6px;\n",
    "        border-radius: 5px;\n",
    "        font-size: 90%;\n",
    "    }\n",
    "    pre {\n",
    "        background-color: #2d2d2d;\n",
    "        color: #f8f8f2;\n",
    "        padding: 10px;\n",
    "        border-radius: 8px;\n",
    "        overflow-x: auto;\n",
    "    }\n",
    "    table {\n",
    "        width: 100%;\n",
    "        border-collapse: collapse;\n",
    "        margin-top: 15px;\n",
    "    }\n",
    "    th, td {\n",
    "        border: 1px solid #ccc;\n",
    "        padding: 6px 10px;\n",
    "        text-align: left;\n",
    "    }\n",
    "    th {\n",
    "        background-color: #f9f9f9;\n",
    "    }\n",
    "</style>\n",
    "\n",
    "<h1>🐼 Pandas - Python Data Analysis Library</h1>\n",
    "\n",
    "<h2>📌 What is Pandas?</h2>\n",
    "<ul>\n",
    "    <li>A powerful open-source library for <strong>data analysis</strong> and <strong>manipulation</strong>.</li>\n",
    "    <li>Built on top of <code>NumPy</code>.</li>\n",
    "    <li>Great for working with structured data (tables, CSV, Excel, SQL, etc.).</li>\n",
    "</ul>\n",
    "\n",
    "<h2>✅ Core Data Structures:</h2>\n",
    "<ul>\n",
    "    <li><strong>Series</strong>: 1D labeled array (like a single column).</li>\n",
    "    <li><strong>DataFrame</strong>: 2D table (like an Excel sheet).</li>\n",
    "</ul>\n",
    "\n",
    "<h2>🧪 Common Operations:</h2>\n",
    "<pre><code>import pandas as pd\n",
    "\n",
    "df = pd.read_csv(\"data.csv\")     # Load data\n",
    "df.head()                        # Show first rows\n",
    "df[\"Age\"].mean()                 # Average of 'Age'\n",
    "df[df[\"Score\"] > 90]             # Filter rows\n",
    "df[\"Grade\"] = \"A\"                # Add new column</code></pre>\n",
    "\n",
    "<h2>🔧 Useful Methods:</h2>\n",
    "<table>\n",
    "    <tr><th>Method</th><th>Description</th></tr>\n",
    "    <tr><td><code>read_csv()</code></td><td>Load data from CSV file</td></tr>\n",
    "    <tr><td><code>head()</code></td><td>Show top rows of the DataFrame</td></tr>\n",
    "    <tr><td><code>drop()</code></td><td>Remove rows or columns</td></tr>\n",
    "    <tr><td><code>fillna()</code></td><td>Fill missing values</td></tr>\n",
    "    <tr><td><code>groupby()</code></td><td>Group and summarize data</td></tr>\n",
    "    <tr><td><code>merge()</code></td><td>Join two datasets</td></tr>\n",
    "    <tr><td><code>to_csv()</code></td><td>Export DataFrame to CSV</td></tr>\n",
    "</table>"
   ]
  },
  {
   "cell_type": "markdown",
   "id": "34bbc8d1-1a30-4d09-bccb-fe8047df9fd1",
   "metadata": {},
   "source": [
    "# IMPORTING and READINGS using PANDAS"
   ]
  },
  {
   "cell_type": "markdown",
   "id": "ab29314e-6e34-4666-9600-dc540795e75a",
   "metadata": {},
   "source": [
    "<style>\n",
    "    body { font-family: 'Segoe UI', sans-serif; line-height: 1.6; color: #333; }\n",
    "    h1, h2 { color: #1f77b4; }\n",
    "    h1 { text-align: center; }\n",
    "    ul { padding-left: 20px; }\n",
    "    code {\n",
    "        background: #f4f4f4;\n",
    "        color: #c7254e;\n",
    "        padding: 2px 6px;\n",
    "        border-radius: 5px;\n",
    "        font-size: 95%;\n",
    "    }\n",
    "    pre {\n",
    "        background-color: #2d2d2d;\n",
    "        color: #f8f8f2;\n",
    "        padding: 10px;\n",
    "        border-radius: 6px;\n",
    "        overflow-x: auto;\n",
    "    }\n",
    "    table {\n",
    "        width: 100%;\n",
    "        border-collapse: collapse;\n",
    "        margin-top: 15px;\n",
    "    }\n",
    "    th, td {\n",
    "        border: 1px solid #ddd;\n",
    "        padding: 8px 12px;\n",
    "    }\n",
    "    th {\n",
    "        background-color: #f2f2f2;\n",
    "        color: #333;\n",
    "    }\n",
    "</style>\n",
    "\n",
    "<h1>📚 Pandas - Reading Data from Various Sources</h1>\n",
    "\n",
    "<h2>🧾 1. CSV Files</h2>\n",
    "<pre><code>df = pd.read_csv(\"data.csv\")</code></pre>\n",
    "<p>Use <code>sep='\\\\t'</code> for tab-separated files (TSV).</p>\n",
    "\n",
    "<h2>📘 2. Excel Files (.xlsx, .xls)</h2>\n",
    "<pre><code>df = pd.read_excel(\"data.xlsx\", sheet_name=\"Sheet1\")</code></pre>\n",
    "<p>Requires <code>openpyxl</code> or <code>xlrd</code> installed.</p>\n",
    "\n",
    "<h2>📄 3. Text Files (.txt)</h2>\n",
    "<pre><code>df = pd.read_table(\"data.txt\", sep=\"\\\\t\")</code></pre>\n",
    "\n",
    "<h2>📊 4. Stata Files (.dta)</h2>\n",
    "<pre><code>df = pd.read_stata(\"data.dta\")</code></pre>\n",
    "\n",
    "<h2>📦 5. JSON Files</h2>\n",
    "<pre><code>df = pd.read_json(\"data.json\")</code></pre>\n",
    "\n",
    "<h2>🖼️ 6. Image Files (PNG, JPG)</h2>\n",
    "<p>Pandas doesn't directly handle images, but you can use:</p>\n",
    "<pre><code>from PIL import Image\n",
    "import numpy as np\n",
    "\n",
    "img = Image.open(\"image.png\")\n",
    "img_array = np.array(img)\n",
    "df = pd.DataFrame(img_array)</code></pre>\n",
    "\n",
    "<h2>🗃️ 7. SQL Databases</h2>\n",
    "<pre><code>import sqlite3\n",
    "conn = sqlite3.connect(\"my_db.db\")\n",
    "df = pd.read_sql(\"SELECT * FROM my_table\", conn)</code></pre>\n",
    "\n",
    "<h2>📑 8. Other Formats</h2>\n",
    "<table>\n",
    "    <tr><th>Format</th><th>Pandas Function</th></tr>\n",
    "    <tr><td>Parquet</td><td><code>pd.read_parquet()</code></td></tr>\n",
    "    <tr><td>Feather</td><td><code>pd.read_feather()</code></td></tr>\n",
    "    <tr><td>HDF5</td><td><code>pd.read_hdf()</code></td></tr>\n",
    "    <tr><td>Clipboard</td><td><code>pd.read_clipboard()</code></td></tr>\n",
    "</table>"
   ]
  },
  {
   "cell_type": "code",
   "execution_count": 11,
   "id": "0e2c3dfe-6b6b-4bae-b7e9-f13d7ab55643",
   "metadata": {},
   "outputs": [],
   "source": [
    "import pandas as pd\n",
    "import numpy as np\n",
    "import matplotlib.pyplot as plt"
   ]
  },
  {
   "cell_type": "code",
   "execution_count": 31,
   "id": "38f93936-4a7b-4b94-8ec0-7c3737eb24ec",
   "metadata": {},
   "outputs": [],
   "source": [
    "path = \"/Aru_New_Future/Mella-Technollogy-LLC-Python-Course-main/Mella-Technollogy-LLC-Python-Course-main/Week_2/orders_data.csv\""
   ]
  },
  {
   "cell_type": "code",
   "execution_count": 32,
   "id": "07775efd-48c5-4166-8cc7-2ab13e7a9dc2",
   "metadata": {},
   "outputs": [],
   "source": [
    "df = pd.read_csv(path)"
   ]
  },
  {
   "cell_type": "code",
   "execution_count": 33,
   "id": "1a1a0341-aa92-48b1-8020-0e8018207340",
   "metadata": {},
   "outputs": [
    {
     "data": {
      "text/html": [
       "<div>\n",
       "<style scoped>\n",
       "    .dataframe tbody tr th:only-of-type {\n",
       "        vertical-align: middle;\n",
       "    }\n",
       "\n",
       "    .dataframe tbody tr th {\n",
       "        vertical-align: top;\n",
       "    }\n",
       "\n",
       "    .dataframe thead th {\n",
       "        text-align: right;\n",
       "    }\n",
       "</style>\n",
       "<table border=\"1\" class=\"dataframe\">\n",
       "  <thead>\n",
       "    <tr style=\"text-align: right;\">\n",
       "      <th></th>\n",
       "      <th>Order Id</th>\n",
       "      <th>Order Date</th>\n",
       "      <th>Ship Mode</th>\n",
       "      <th>Segment</th>\n",
       "      <th>Country</th>\n",
       "      <th>City</th>\n",
       "      <th>State</th>\n",
       "      <th>Postal Code</th>\n",
       "      <th>Region</th>\n",
       "      <th>Category</th>\n",
       "      <th>Sub Category</th>\n",
       "      <th>Product Id</th>\n",
       "      <th>cost price</th>\n",
       "      <th>List Price</th>\n",
       "      <th>Quantity</th>\n",
       "      <th>Discount Percent</th>\n",
       "    </tr>\n",
       "  </thead>\n",
       "  <tbody>\n",
       "    <tr>\n",
       "      <th>0</th>\n",
       "      <td>1</td>\n",
       "      <td>01-03-2023</td>\n",
       "      <td>Second Class</td>\n",
       "      <td>Consumer</td>\n",
       "      <td>United States</td>\n",
       "      <td>Henderson</td>\n",
       "      <td>Kentucky</td>\n",
       "      <td>42420</td>\n",
       "      <td>South</td>\n",
       "      <td>Furniture</td>\n",
       "      <td>Bookcases</td>\n",
       "      <td>FUR-BO-10001798</td>\n",
       "      <td>240</td>\n",
       "      <td>260</td>\n",
       "      <td>2</td>\n",
       "      <td>2</td>\n",
       "    </tr>\n",
       "    <tr>\n",
       "      <th>1</th>\n",
       "      <td>2</td>\n",
       "      <td>15-08-2023</td>\n",
       "      <td>Second Class</td>\n",
       "      <td>Consumer</td>\n",
       "      <td>United States</td>\n",
       "      <td>Henderson</td>\n",
       "      <td>Kentucky</td>\n",
       "      <td>42420</td>\n",
       "      <td>South</td>\n",
       "      <td>Furniture</td>\n",
       "      <td>Chairs</td>\n",
       "      <td>FUR-CH-10000454</td>\n",
       "      <td>600</td>\n",
       "      <td>730</td>\n",
       "      <td>3</td>\n",
       "      <td>3</td>\n",
       "    </tr>\n",
       "    <tr>\n",
       "      <th>2</th>\n",
       "      <td>3</td>\n",
       "      <td>10-01-2023</td>\n",
       "      <td>Second Class</td>\n",
       "      <td>Corporate</td>\n",
       "      <td>United States</td>\n",
       "      <td>Los Angeles</td>\n",
       "      <td>California</td>\n",
       "      <td>90036</td>\n",
       "      <td>West</td>\n",
       "      <td>Office Supplies</td>\n",
       "      <td>Labels</td>\n",
       "      <td>OFF-LA-10000240</td>\n",
       "      <td>10</td>\n",
       "      <td>10</td>\n",
       "      <td>2</td>\n",
       "      <td>5</td>\n",
       "    </tr>\n",
       "    <tr>\n",
       "      <th>3</th>\n",
       "      <td>4</td>\n",
       "      <td>18-06-2022</td>\n",
       "      <td>Standard Class</td>\n",
       "      <td>Consumer</td>\n",
       "      <td>United States</td>\n",
       "      <td>Fort Lauderdale</td>\n",
       "      <td>Florida</td>\n",
       "      <td>33311</td>\n",
       "      <td>South</td>\n",
       "      <td>Furniture</td>\n",
       "      <td>Tables</td>\n",
       "      <td>FUR-TA-10000577</td>\n",
       "      <td>780</td>\n",
       "      <td>960</td>\n",
       "      <td>5</td>\n",
       "      <td>2</td>\n",
       "    </tr>\n",
       "    <tr>\n",
       "      <th>4</th>\n",
       "      <td>5</td>\n",
       "      <td>13-07-2022</td>\n",
       "      <td>Standard Class</td>\n",
       "      <td>Consumer</td>\n",
       "      <td>United States</td>\n",
       "      <td>Fort Lauderdale</td>\n",
       "      <td>Florida</td>\n",
       "      <td>33311</td>\n",
       "      <td>South</td>\n",
       "      <td>Office Supplies</td>\n",
       "      <td>Storage</td>\n",
       "      <td>OFF-ST-10000760</td>\n",
       "      <td>20</td>\n",
       "      <td>20</td>\n",
       "      <td>2</td>\n",
       "      <td>5</td>\n",
       "    </tr>\n",
       "    <tr>\n",
       "      <th>...</th>\n",
       "      <td>...</td>\n",
       "      <td>...</td>\n",
       "      <td>...</td>\n",
       "      <td>...</td>\n",
       "      <td>...</td>\n",
       "      <td>...</td>\n",
       "      <td>...</td>\n",
       "      <td>...</td>\n",
       "      <td>...</td>\n",
       "      <td>...</td>\n",
       "      <td>...</td>\n",
       "      <td>...</td>\n",
       "      <td>...</td>\n",
       "      <td>...</td>\n",
       "      <td>...</td>\n",
       "      <td>...</td>\n",
       "    </tr>\n",
       "    <tr>\n",
       "      <th>9989</th>\n",
       "      <td>9990</td>\n",
       "      <td>18-02-2023</td>\n",
       "      <td>Second Class</td>\n",
       "      <td>Consumer</td>\n",
       "      <td>United States</td>\n",
       "      <td>Miami</td>\n",
       "      <td>Florida</td>\n",
       "      <td>33180</td>\n",
       "      <td>South</td>\n",
       "      <td>Furniture</td>\n",
       "      <td>Furnishings</td>\n",
       "      <td>FUR-FU-10001889</td>\n",
       "      <td>30</td>\n",
       "      <td>30</td>\n",
       "      <td>3</td>\n",
       "      <td>4</td>\n",
       "    </tr>\n",
       "    <tr>\n",
       "      <th>9990</th>\n",
       "      <td>9991</td>\n",
       "      <td>17-03-2023</td>\n",
       "      <td>Standard Class</td>\n",
       "      <td>Consumer</td>\n",
       "      <td>United States</td>\n",
       "      <td>Costa Mesa</td>\n",
       "      <td>California</td>\n",
       "      <td>92627</td>\n",
       "      <td>West</td>\n",
       "      <td>Furniture</td>\n",
       "      <td>Furnishings</td>\n",
       "      <td>FUR-FU-10000747</td>\n",
       "      <td>70</td>\n",
       "      <td>90</td>\n",
       "      <td>2</td>\n",
       "      <td>4</td>\n",
       "    </tr>\n",
       "    <tr>\n",
       "      <th>9991</th>\n",
       "      <td>9992</td>\n",
       "      <td>07-08-2022</td>\n",
       "      <td>Standard Class</td>\n",
       "      <td>Consumer</td>\n",
       "      <td>United States</td>\n",
       "      <td>Costa Mesa</td>\n",
       "      <td>California</td>\n",
       "      <td>92627</td>\n",
       "      <td>West</td>\n",
       "      <td>Technology</td>\n",
       "      <td>Phones</td>\n",
       "      <td>TEC-PH-10003645</td>\n",
       "      <td>220</td>\n",
       "      <td>260</td>\n",
       "      <td>2</td>\n",
       "      <td>2</td>\n",
       "    </tr>\n",
       "    <tr>\n",
       "      <th>9992</th>\n",
       "      <td>9993</td>\n",
       "      <td>19-11-2022</td>\n",
       "      <td>Standard Class</td>\n",
       "      <td>Consumer</td>\n",
       "      <td>United States</td>\n",
       "      <td>Costa Mesa</td>\n",
       "      <td>California</td>\n",
       "      <td>92627</td>\n",
       "      <td>West</td>\n",
       "      <td>Office Supplies</td>\n",
       "      <td>Paper</td>\n",
       "      <td>OFF-PA-10004041</td>\n",
       "      <td>30</td>\n",
       "      <td>30</td>\n",
       "      <td>4</td>\n",
       "      <td>3</td>\n",
       "    </tr>\n",
       "    <tr>\n",
       "      <th>9993</th>\n",
       "      <td>9994</td>\n",
       "      <td>17-07-2022</td>\n",
       "      <td>Second Class</td>\n",
       "      <td>Consumer</td>\n",
       "      <td>United States</td>\n",
       "      <td>Westminster</td>\n",
       "      <td>California</td>\n",
       "      <td>92683</td>\n",
       "      <td>West</td>\n",
       "      <td>Office Supplies</td>\n",
       "      <td>Appliances</td>\n",
       "      <td>OFF-AP-10002684</td>\n",
       "      <td>210</td>\n",
       "      <td>240</td>\n",
       "      <td>2</td>\n",
       "      <td>3</td>\n",
       "    </tr>\n",
       "  </tbody>\n",
       "</table>\n",
       "<p>9994 rows × 16 columns</p>\n",
       "</div>"
      ],
      "text/plain": [
       "      Order Id  Order Date       Ship Mode    Segment        Country  \\\n",
       "0            1  01-03-2023    Second Class   Consumer  United States   \n",
       "1            2  15-08-2023    Second Class   Consumer  United States   \n",
       "2            3  10-01-2023    Second Class  Corporate  United States   \n",
       "3            4  18-06-2022  Standard Class   Consumer  United States   \n",
       "4            5  13-07-2022  Standard Class   Consumer  United States   \n",
       "...        ...         ...             ...        ...            ...   \n",
       "9989      9990  18-02-2023    Second Class   Consumer  United States   \n",
       "9990      9991  17-03-2023  Standard Class   Consumer  United States   \n",
       "9991      9992  07-08-2022  Standard Class   Consumer  United States   \n",
       "9992      9993  19-11-2022  Standard Class   Consumer  United States   \n",
       "9993      9994  17-07-2022    Second Class   Consumer  United States   \n",
       "\n",
       "                 City       State  Postal Code Region         Category  \\\n",
       "0           Henderson    Kentucky        42420  South        Furniture   \n",
       "1           Henderson    Kentucky        42420  South        Furniture   \n",
       "2         Los Angeles  California        90036   West  Office Supplies   \n",
       "3     Fort Lauderdale     Florida        33311  South        Furniture   \n",
       "4     Fort Lauderdale     Florida        33311  South  Office Supplies   \n",
       "...               ...         ...          ...    ...              ...   \n",
       "9989            Miami     Florida        33180  South        Furniture   \n",
       "9990       Costa Mesa  California        92627   West        Furniture   \n",
       "9991       Costa Mesa  California        92627   West       Technology   \n",
       "9992       Costa Mesa  California        92627   West  Office Supplies   \n",
       "9993      Westminster  California        92683   West  Office Supplies   \n",
       "\n",
       "     Sub Category       Product Id  cost price  List Price  Quantity  \\\n",
       "0       Bookcases  FUR-BO-10001798         240         260         2   \n",
       "1          Chairs  FUR-CH-10000454         600         730         3   \n",
       "2          Labels  OFF-LA-10000240          10          10         2   \n",
       "3          Tables  FUR-TA-10000577         780         960         5   \n",
       "4         Storage  OFF-ST-10000760          20          20         2   \n",
       "...           ...              ...         ...         ...       ...   \n",
       "9989  Furnishings  FUR-FU-10001889          30          30         3   \n",
       "9990  Furnishings  FUR-FU-10000747          70          90         2   \n",
       "9991       Phones  TEC-PH-10003645         220         260         2   \n",
       "9992        Paper  OFF-PA-10004041          30          30         4   \n",
       "9993   Appliances  OFF-AP-10002684         210         240         2   \n",
       "\n",
       "      Discount Percent  \n",
       "0                    2  \n",
       "1                    3  \n",
       "2                    5  \n",
       "3                    2  \n",
       "4                    5  \n",
       "...                ...  \n",
       "9989                 4  \n",
       "9990                 4  \n",
       "9991                 2  \n",
       "9992                 3  \n",
       "9993                 3  \n",
       "\n",
       "[9994 rows x 16 columns]"
      ]
     },
     "execution_count": 33,
     "metadata": {},
     "output_type": "execute_result"
    }
   ],
   "source": [
    "df"
   ]
  },
  {
   "cell_type": "code",
   "execution_count": 34,
   "id": "d1323704-e029-459f-8c47-d09241b2ce17",
   "metadata": {},
   "outputs": [
    {
     "data": {
      "text/plain": [
       "(9994, 16)"
      ]
     },
     "execution_count": 34,
     "metadata": {},
     "output_type": "execute_result"
    }
   ],
   "source": [
    "df.shape"
   ]
  },
  {
   "cell_type": "code",
   "execution_count": 35,
   "id": "bfc10cfa-c2d9-4409-a713-f24a4bebfa52",
   "metadata": {},
   "outputs": [
    {
     "name": "stdout",
     "output_type": "stream",
     "text": [
      "<class 'pandas.core.frame.DataFrame'>\n",
      "RangeIndex: 9994 entries, 0 to 9993\n",
      "Data columns (total 16 columns):\n",
      " #   Column            Non-Null Count  Dtype \n",
      "---  ------            --------------  ----- \n",
      " 0   Order Id          9994 non-null   int64 \n",
      " 1   Order Date        9994 non-null   object\n",
      " 2   Ship Mode         9993 non-null   object\n",
      " 3   Segment           9994 non-null   object\n",
      " 4   Country           9994 non-null   object\n",
      " 5   City              9994 non-null   object\n",
      " 6   State             9994 non-null   object\n",
      " 7   Postal Code       9994 non-null   int64 \n",
      " 8   Region            9994 non-null   object\n",
      " 9   Category          9994 non-null   object\n",
      " 10  Sub Category      9994 non-null   object\n",
      " 11  Product Id        9994 non-null   object\n",
      " 12  cost price        9994 non-null   int64 \n",
      " 13  List Price        9994 non-null   int64 \n",
      " 14  Quantity          9994 non-null   int64 \n",
      " 15  Discount Percent  9994 non-null   int64 \n",
      "dtypes: int64(6), object(10)\n",
      "memory usage: 1.2+ MB\n"
     ]
    }
   ],
   "source": [
    "df.info()"
   ]
  },
  {
   "cell_type": "code",
   "execution_count": 36,
   "id": "fed53331-1cf4-4f47-9b52-9af8bcea3a65",
   "metadata": {},
   "outputs": [
    {
     "data": {
      "text/plain": [
       "array(['Second Class', 'Standard Class', 'Not Available', 'unknown',\n",
       "       'First Class', nan, 'Same Day'], dtype=object)"
      ]
     },
     "execution_count": 36,
     "metadata": {},
     "output_type": "execute_result"
    }
   ],
   "source": [
    "df['Ship Mode'].unique()"
   ]
  },
  {
   "cell_type": "code",
   "execution_count": null,
   "id": "07057123-6e4d-4d69-b63a-b2c31f17e231",
   "metadata": {},
   "outputs": [],
   "source": []
  }
 ],
 "metadata": {
  "colab": {
   "provenance": []
  },
  "kernelspec": {
   "display_name": "Python (Mella)",
   "language": "python",
   "name": "mella"
  },
  "language_info": {
   "codemirror_mode": {
    "name": "ipython",
    "version": 3
   },
   "file_extension": ".py",
   "mimetype": "text/x-python",
   "name": "python",
   "nbconvert_exporter": "python",
   "pygments_lexer": "ipython3",
   "version": "3.13.5"
  }
 },
 "nbformat": 4,
 "nbformat_minor": 5
}
